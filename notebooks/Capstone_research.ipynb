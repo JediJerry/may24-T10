{
 "cells": [
  {
   "cell_type": "code",
   "execution_count": 1,
   "id": "00192006-8fb8-493b-b378-975855085dfd",
   "metadata": {},
   "outputs": [],
   "source": [
    "import pandas as pd\n",
    "import numpy as np"
   ]
  },
  {
   "cell_type": "markdown",
   "id": "ea18d66e-1a7b-41f6-9a78-6f2ba0539192",
   "metadata": {},
   "source": [
    "## Ingest data from remote MySQL database"
   ]
  },
  {
   "cell_type": "code",
   "execution_count": 1,
   "id": "160f4459-44ba-4551-bd5c-001308e73265",
   "metadata": {},
   "outputs": [],
   "source": [
    "from sqlalchemy import create_engine\n"
   ]
  },
  {
   "cell_type": "code",
   "execution_count": 46,
   "id": "e9735972-3a6a-48a5-a94b-a3804fd09b04",
   "metadata": {},
   "outputs": [],
   "source": [
    "ENDPOINT = 'heicoders-playground.c2ced10ceyki.ap-southeast-1.rds.amazonaws.com'\n",
    "PORT = 3306\n",
    "USERNAME = 'student300'\n",
    "PASSWORD = 'heicoders_AI300'\n",
    "DBNAME = 'ai300_capstone'\n",
    "\n",
    "database_conn = create_engine(f'mysql+pymysql://{USERNAME}:{PASSWORD}@{ENDPOINT}/{DBNAME}')"
   ]
  },
  {
   "cell_type": "code",
   "execution_count": null,
   "id": "557cfa4b-274a-4ea5-acde-dc03d41d0587",
   "metadata": {},
   "outputs": [],
   "source": []
  },
  {
   "cell_type": "code",
   "execution_count": 10,
   "id": "92df12f7-1f82-4c17-9c41-4bd38c9021dd",
   "metadata": {},
   "outputs": [],
   "source": [
    "\n",
    "def get_columns(dbconn, schema, table):\n",
    "    query = f\"\"\"\n",
    "    SELECT column_name\n",
    "    FROM information_schema.columns\n",
    "    WHERE table_schema = '{schema}' and table_name = '{table}';\n",
    "    \"\"\"\n",
    "\n",
    "    df = pd.read_sql(query, dbconn)\n",
    "\n",
    "    return df['COLUMN_NAME'].to_list()\n",
    "\n",
    "    "
   ]
  },
  {
   "cell_type": "code",
   "execution_count": 13,
   "id": "df0a5afb-8fa0-4af7-9678-0294849b466d",
   "metadata": {},
   "outputs": [
    {
     "data": {
      "text/plain": [
       "['account_id',\n",
       " 'contract_type',\n",
       " 'customer_id',\n",
       " 'has_device_protection',\n",
       " 'has_internet_service',\n",
       " 'has_multiple_lines',\n",
       " 'has_online_backup',\n",
       " 'has_online_security',\n",
       " 'has_phone_service',\n",
       " 'has_premium_tech_support',\n",
       " 'has_unlimited_data',\n",
       " 'internet_type',\n",
       " 'num_referrals',\n",
       " 'paperless_billing',\n",
       " 'payment_method',\n",
       " 'tenure_months']"
      ]
     },
     "execution_count": 13,
     "metadata": {},
     "output_type": "execute_result"
    }
   ],
   "source": [
    "acct_cols = get_columns(database_conn, DBNAME, 'account')\n",
    "acct_cols"
   ]
  },
  {
   "cell_type": "code",
   "execution_count": 14,
   "id": "31772334-9e7f-4ee7-a24b-f9a1a04425fe",
   "metadata": {},
   "outputs": [
    {
     "data": {
      "text/plain": [
       "['account_id',\n",
       " 'avg_gb_download_monthly',\n",
       " 'avg_long_distance_fee_monthly',\n",
       " 'stream_movie',\n",
       " 'stream_music',\n",
       " 'stream_tv',\n",
       " 'total_charges_quarter',\n",
       " 'total_long_distance_fee',\n",
       " 'total_monthly_fee',\n",
       " 'total_refunds']"
      ]
     },
     "execution_count": 14,
     "metadata": {},
     "output_type": "execute_result"
    }
   ],
   "source": [
    "acct_usg_cols = get_columns(database_conn, DBNAME, 'account_usage')\n",
    "acct_usg_cols"
   ]
  },
  {
   "cell_type": "code",
   "execution_count": 17,
   "id": "d960d388-d47c-4956-9ced-31c6e14b4b28",
   "metadata": {},
   "outputs": [
    {
     "data": {
      "text/plain": [
       "['churn_category', 'churn_label', 'churn_reason', 'customer_id', 'status']"
      ]
     },
     "execution_count": 17,
     "metadata": {},
     "output_type": "execute_result"
    }
   ],
   "source": [
    "churn_cols = get_columns(database_conn, DBNAME, 'churn_status')\n",
    "churn_cols"
   ]
  },
  {
   "cell_type": "code",
   "execution_count": 18,
   "id": "0f45bf67-2842-44b1-826d-4ac0a5b4e7f7",
   "metadata": {},
   "outputs": [
    {
     "data": {
      "text/plain": [
       "['area_id', 'city', 'latitutde', 'longitude', 'population', 'zip_code']"
      ]
     },
     "execution_count": 18,
     "metadata": {},
     "output_type": "execute_result"
    }
   ],
   "source": [
    "city_cols = get_columns(database_conn, DBNAME, 'city')\n",
    "city_cols"
   ]
  },
  {
   "cell_type": "code",
   "execution_count": 19,
   "id": "7f82ebe6-476d-42bb-a8b0-a0c0412947ed",
   "metadata": {},
   "outputs": [
    {
     "data": {
      "text/plain": [
       "['age',\n",
       " 'customer_id',\n",
       " 'gender',\n",
       " 'married',\n",
       " 'num_dependents',\n",
       " 'senior_citizen',\n",
       " 'zip_code']"
      ]
     },
     "execution_count": 19,
     "metadata": {},
     "output_type": "execute_result"
    }
   ],
   "source": [
    "cust_cols = get_columns(database_conn, DBNAME, 'customer')\n",
    "cust_cols"
   ]
  },
  {
   "cell_type": "code",
   "execution_count": null,
   "id": "86ad3411-d929-4a21-aabc-12e19e7d7fb0",
   "metadata": {},
   "outputs": [],
   "source": []
  },
  {
   "cell_type": "code",
   "execution_count": 47,
   "id": "3ef7f9a4-72be-4e57-85a9-59f83ac70a62",
   "metadata": {},
   "outputs": [],
   "source": [
    "def load_data_from_db(dbconn, verbose=False):\n",
    "\n",
    "    join_acct_usg_cols = ['account_id']\n",
    "    join_cust_cols = ['customer_id']\n",
    "    join_city_cols = ['zip_code']\n",
    "\n",
    "    acct_tbl_alias = 'a'\n",
    "    acct_usg_tbl_alias = 'au'\n",
    "    cust_tbl_alias = 'cu'\n",
    "    city_tbl_alias = 'ct'\n",
    "    churn_tbl_alias = 'ch'\n",
    "    \n",
    "    sel_acct_cols = [f'{acct_tbl_alias}.{c}' for c in acct_cols]\n",
    "    sel_acct_usg_cols = [f'{acct_usg_tbl_alias}.{c}' for c in acct_usg_cols if c not in join_acct_usg_cols]\n",
    "    sel_cust_cols = [f'{cust_tbl_alias}.{c}' for c in cust_cols if c not in join_cust_cols]\n",
    "    sel_city_cols = [f'{city_tbl_alias}.{c}' for c in city_cols if c not in join_city_cols]\n",
    "    #sel_churn_cols = [f'{churn_tbl_alias}.{c}' for c in ['churn_label']]\n",
    "    \n",
    "    query = f\"\"\"\n",
    "        SELECT {','.join(sel_acct_cols + sel_acct_usg_cols + sel_cust_cols + sel_city_cols)},\n",
    "            CASE\n",
    "        \t\tWHEN {churn_tbl_alias}.status = 'Churned' then 1\n",
    "                ELSE 0\n",
    "            END AS status\n",
    "        FROM ai300_capstone.account {acct_tbl_alias}\n",
    "        LEFT JOIN ai300_capstone.account_usage {acct_usg_tbl_alias} on {acct_tbl_alias}.account_id = {acct_usg_tbl_alias}.account_id\n",
    "        LEFT JOIN ai300_capstone.customer {cust_tbl_alias} on {acct_tbl_alias}.customer_id = {cust_tbl_alias}.customer_id\n",
    "        LEFT JOIN ai300_capstone.city {city_tbl_alias} on {cust_tbl_alias}.zip_code = {city_tbl_alias}.zip_code\n",
    "        INNER JOIN ai300_capstone.churn_status {churn_tbl_alias} on {acct_tbl_alias}.customer_id = {churn_tbl_alias}.customer_id;\n",
    "    \"\"\"\n",
    "    if verbose:\n",
    "        print(query)\n",
    "\n",
    "    df = pd.read_sql(query, dbconn)\n",
    "\n",
    "    return(df)\n"
   ]
  },
  {
   "cell_type": "code",
   "execution_count": 48,
   "id": "b817c1c5-50b8-4755-9c20-4092d75aa575",
   "metadata": {},
   "outputs": [],
   "source": [
    "churn_df = load_data_from_db(database_conn)"
   ]
  },
  {
   "cell_type": "markdown",
   "id": "da2f9b62-fbd8-4ffd-82f9-9f6e924515ff",
   "metadata": {},
   "source": [
    "### Save to local"
   ]
  },
  {
   "cell_type": "raw",
   "id": "988b4c35-6901-433b-9369-1ac7353ee724",
   "metadata": {},
   "source": [
    "churn_df.to_csv('data/churn.csv', index=False)"
   ]
  },
  {
   "cell_type": "code",
   "execution_count": null,
   "id": "0158f332-b9a4-4969-b4c2-307a5dd841c0",
   "metadata": {},
   "outputs": [],
   "source": []
  },
  {
   "cell_type": "markdown",
   "id": "d6dc6e9f-d2bf-490a-9d13-44ec8be19840",
   "metadata": {},
   "source": [
    "### Load from local csv"
   ]
  },
  {
   "cell_type": "code",
   "execution_count": 2,
   "id": "436a193e-8cda-4fcd-971f-1123a1f5d64e",
   "metadata": {},
   "outputs": [],
   "source": [
    "churn_df = pd.read_csv('../data/churn.csv')"
   ]
  },
  {
   "cell_type": "code",
   "execution_count": 3,
   "id": "7cbc3307-fd24-4f69-a9c6-b8f71985b98e",
   "metadata": {},
   "outputs": [
    {
     "name": "stdout",
     "output_type": "stream",
     "text": [
      "<class 'pandas.core.frame.DataFrame'>\n",
      "RangeIndex: 7043 entries, 0 to 7042\n",
      "Data columns (total 37 columns):\n",
      " #   Column                         Non-Null Count  Dtype  \n",
      "---  ------                         --------------  -----  \n",
      " 0   account_id                     7043 non-null   object \n",
      " 1   contract_type                  7043 non-null   object \n",
      " 2   customer_id                    7043 non-null   object \n",
      " 3   has_device_protection          7043 non-null   object \n",
      " 4   has_internet_service           7043 non-null   object \n",
      " 5   has_multiple_lines             7043 non-null   object \n",
      " 6   has_online_backup              7043 non-null   object \n",
      " 7   has_online_security            7043 non-null   object \n",
      " 8   has_phone_service              7043 non-null   object \n",
      " 9   has_premium_tech_support       7043 non-null   object \n",
      " 10  has_unlimited_data             7043 non-null   object \n",
      " 11  internet_type                  5517 non-null   object \n",
      " 12  num_referrals                  7043 non-null   int64  \n",
      " 13  paperless_billing              7043 non-null   object \n",
      " 14  payment_method                 7043 non-null   object \n",
      " 15  tenure_months                  7043 non-null   int64  \n",
      " 16  avg_gb_download_monthly        7043 non-null   int64  \n",
      " 17  avg_long_distance_fee_monthly  7043 non-null   float64\n",
      " 18  stream_movie                   7043 non-null   object \n",
      " 19  stream_music                   7043 non-null   object \n",
      " 20  stream_tv                      7043 non-null   object \n",
      " 21  total_charges_quarter          7043 non-null   float64\n",
      " 22  total_long_distance_fee        7043 non-null   float64\n",
      " 23  total_monthly_fee              7043 non-null   float64\n",
      " 24  total_refunds                  7043 non-null   float64\n",
      " 25  age                            7043 non-null   int64  \n",
      " 26  gender                         7043 non-null   object \n",
      " 27  married                        7043 non-null   object \n",
      " 28  num_dependents                 7043 non-null   int64  \n",
      " 29  senior_citizen                 7043 non-null   object \n",
      " 30  zip_code                       7043 non-null   int64  \n",
      " 31  area_id                        7043 non-null   int64  \n",
      " 32  city                           7043 non-null   object \n",
      " 33  latitutde                      7043 non-null   float64\n",
      " 34  longitude                      7043 non-null   float64\n",
      " 35  population                     7043 non-null   int64  \n",
      " 36  status                         7043 non-null   int64  \n",
      "dtypes: float64(7), int64(9), object(21)\n",
      "memory usage: 2.0+ MB\n"
     ]
    }
   ],
   "source": [
    "churn_df.info()"
   ]
  },
  {
   "cell_type": "code",
   "execution_count": 4,
   "id": "744f5ad6-d5e3-4f63-af6c-da3ed3239027",
   "metadata": {},
   "outputs": [
    {
     "data": {
      "text/html": [
       "<div>\n",
       "<style scoped>\n",
       "    .dataframe tbody tr th:only-of-type {\n",
       "        vertical-align: middle;\n",
       "    }\n",
       "\n",
       "    .dataframe tbody tr th {\n",
       "        vertical-align: top;\n",
       "    }\n",
       "\n",
       "    .dataframe thead th {\n",
       "        text-align: right;\n",
       "    }\n",
       "</style>\n",
       "<table border=\"1\" class=\"dataframe\">\n",
       "  <thead>\n",
       "    <tr style=\"text-align: right;\">\n",
       "      <th></th>\n",
       "      <th>count</th>\n",
       "      <th>mean</th>\n",
       "      <th>std</th>\n",
       "      <th>min</th>\n",
       "      <th>25%</th>\n",
       "      <th>50%</th>\n",
       "      <th>75%</th>\n",
       "      <th>max</th>\n",
       "    </tr>\n",
       "  </thead>\n",
       "  <tbody>\n",
       "    <tr>\n",
       "      <th>num_referrals</th>\n",
       "      <td>7043.0</td>\n",
       "      <td>1.951867</td>\n",
       "      <td>3.001199</td>\n",
       "      <td>0.000000</td>\n",
       "      <td>0.000000</td>\n",
       "      <td>0.000000</td>\n",
       "      <td>3.000000</td>\n",
       "      <td>11.000000</td>\n",
       "    </tr>\n",
       "    <tr>\n",
       "      <th>tenure_months</th>\n",
       "      <td>7043.0</td>\n",
       "      <td>32.386767</td>\n",
       "      <td>24.542061</td>\n",
       "      <td>1.000000</td>\n",
       "      <td>9.000000</td>\n",
       "      <td>29.000000</td>\n",
       "      <td>55.000000</td>\n",
       "      <td>72.000000</td>\n",
       "    </tr>\n",
       "    <tr>\n",
       "      <th>avg_gb_download_monthly</th>\n",
       "      <td>7043.0</td>\n",
       "      <td>20.515405</td>\n",
       "      <td>20.418940</td>\n",
       "      <td>0.000000</td>\n",
       "      <td>3.000000</td>\n",
       "      <td>17.000000</td>\n",
       "      <td>27.000000</td>\n",
       "      <td>85.000000</td>\n",
       "    </tr>\n",
       "    <tr>\n",
       "      <th>avg_long_distance_fee_monthly</th>\n",
       "      <td>7043.0</td>\n",
       "      <td>22.958954</td>\n",
       "      <td>15.448113</td>\n",
       "      <td>0.000000</td>\n",
       "      <td>9.210000</td>\n",
       "      <td>22.890000</td>\n",
       "      <td>36.395000</td>\n",
       "      <td>49.990000</td>\n",
       "    </tr>\n",
       "    <tr>\n",
       "      <th>total_charges_quarter</th>\n",
       "      <td>7043.0</td>\n",
       "      <td>2280.381264</td>\n",
       "      <td>2266.220462</td>\n",
       "      <td>18.800000</td>\n",
       "      <td>400.150000</td>\n",
       "      <td>1394.550000</td>\n",
       "      <td>3786.600000</td>\n",
       "      <td>8684.800000</td>\n",
       "    </tr>\n",
       "    <tr>\n",
       "      <th>total_long_distance_fee</th>\n",
       "      <td>7043.0</td>\n",
       "      <td>749.099262</td>\n",
       "      <td>846.660055</td>\n",
       "      <td>0.000000</td>\n",
       "      <td>70.545000</td>\n",
       "      <td>401.440000</td>\n",
       "      <td>1191.100000</td>\n",
       "      <td>3564.720000</td>\n",
       "    </tr>\n",
       "    <tr>\n",
       "      <th>total_monthly_fee</th>\n",
       "      <td>7043.0</td>\n",
       "      <td>64.761692</td>\n",
       "      <td>30.090047</td>\n",
       "      <td>18.250000</td>\n",
       "      <td>35.500000</td>\n",
       "      <td>70.350000</td>\n",
       "      <td>89.850000</td>\n",
       "      <td>118.750000</td>\n",
       "    </tr>\n",
       "    <tr>\n",
       "      <th>total_refunds</th>\n",
       "      <td>7043.0</td>\n",
       "      <td>1.962182</td>\n",
       "      <td>7.902614</td>\n",
       "      <td>0.000000</td>\n",
       "      <td>0.000000</td>\n",
       "      <td>0.000000</td>\n",
       "      <td>0.000000</td>\n",
       "      <td>49.790000</td>\n",
       "    </tr>\n",
       "    <tr>\n",
       "      <th>age</th>\n",
       "      <td>7043.0</td>\n",
       "      <td>46.509726</td>\n",
       "      <td>16.750352</td>\n",
       "      <td>19.000000</td>\n",
       "      <td>32.000000</td>\n",
       "      <td>46.000000</td>\n",
       "      <td>60.000000</td>\n",
       "      <td>80.000000</td>\n",
       "    </tr>\n",
       "    <tr>\n",
       "      <th>num_dependents</th>\n",
       "      <td>7043.0</td>\n",
       "      <td>0.468692</td>\n",
       "      <td>0.962802</td>\n",
       "      <td>0.000000</td>\n",
       "      <td>0.000000</td>\n",
       "      <td>0.000000</td>\n",
       "      <td>0.000000</td>\n",
       "      <td>9.000000</td>\n",
       "    </tr>\n",
       "    <tr>\n",
       "      <th>zip_code</th>\n",
       "      <td>7043.0</td>\n",
       "      <td>93486.070567</td>\n",
       "      <td>1856.767505</td>\n",
       "      <td>90001.000000</td>\n",
       "      <td>92101.000000</td>\n",
       "      <td>93518.000000</td>\n",
       "      <td>95329.000000</td>\n",
       "      <td>96150.000000</td>\n",
       "    </tr>\n",
       "    <tr>\n",
       "      <th>area_id</th>\n",
       "      <td>7043.0</td>\n",
       "      <td>767.045577</td>\n",
       "      <td>475.486842</td>\n",
       "      <td>1.000000</td>\n",
       "      <td>350.000000</td>\n",
       "      <td>741.000000</td>\n",
       "      <td>1182.000000</td>\n",
       "      <td>1626.000000</td>\n",
       "    </tr>\n",
       "    <tr>\n",
       "      <th>latitutde</th>\n",
       "      <td>7043.0</td>\n",
       "      <td>36.197455</td>\n",
       "      <td>2.468929</td>\n",
       "      <td>32.555828</td>\n",
       "      <td>33.990646</td>\n",
       "      <td>36.205465</td>\n",
       "      <td>38.161321</td>\n",
       "      <td>41.962127</td>\n",
       "    </tr>\n",
       "    <tr>\n",
       "      <th>longitude</th>\n",
       "      <td>7043.0</td>\n",
       "      <td>-119.756684</td>\n",
       "      <td>2.154425</td>\n",
       "      <td>-124.301372</td>\n",
       "      <td>-121.788090</td>\n",
       "      <td>-119.595293</td>\n",
       "      <td>-117.969795</td>\n",
       "      <td>-114.192901</td>\n",
       "    </tr>\n",
       "    <tr>\n",
       "      <th>population</th>\n",
       "      <td>7043.0</td>\n",
       "      <td>22139.603294</td>\n",
       "      <td>21152.392837</td>\n",
       "      <td>11.000000</td>\n",
       "      <td>2344.000000</td>\n",
       "      <td>17554.000000</td>\n",
       "      <td>36125.000000</td>\n",
       "      <td>105285.000000</td>\n",
       "    </tr>\n",
       "    <tr>\n",
       "      <th>status</th>\n",
       "      <td>7043.0</td>\n",
       "      <td>0.265370</td>\n",
       "      <td>0.441561</td>\n",
       "      <td>0.000000</td>\n",
       "      <td>0.000000</td>\n",
       "      <td>0.000000</td>\n",
       "      <td>1.000000</td>\n",
       "      <td>1.000000</td>\n",
       "    </tr>\n",
       "  </tbody>\n",
       "</table>\n",
       "</div>"
      ],
      "text/plain": [
       "                                count          mean           std  \\\n",
       "num_referrals                  7043.0      1.951867      3.001199   \n",
       "tenure_months                  7043.0     32.386767     24.542061   \n",
       "avg_gb_download_monthly        7043.0     20.515405     20.418940   \n",
       "avg_long_distance_fee_monthly  7043.0     22.958954     15.448113   \n",
       "total_charges_quarter          7043.0   2280.381264   2266.220462   \n",
       "total_long_distance_fee        7043.0    749.099262    846.660055   \n",
       "total_monthly_fee              7043.0     64.761692     30.090047   \n",
       "total_refunds                  7043.0      1.962182      7.902614   \n",
       "age                            7043.0     46.509726     16.750352   \n",
       "num_dependents                 7043.0      0.468692      0.962802   \n",
       "zip_code                       7043.0  93486.070567   1856.767505   \n",
       "area_id                        7043.0    767.045577    475.486842   \n",
       "latitutde                      7043.0     36.197455      2.468929   \n",
       "longitude                      7043.0   -119.756684      2.154425   \n",
       "population                     7043.0  22139.603294  21152.392837   \n",
       "status                         7043.0      0.265370      0.441561   \n",
       "\n",
       "                                        min           25%           50%  \\\n",
       "num_referrals                      0.000000      0.000000      0.000000   \n",
       "tenure_months                      1.000000      9.000000     29.000000   \n",
       "avg_gb_download_monthly            0.000000      3.000000     17.000000   \n",
       "avg_long_distance_fee_monthly      0.000000      9.210000     22.890000   \n",
       "total_charges_quarter             18.800000    400.150000   1394.550000   \n",
       "total_long_distance_fee            0.000000     70.545000    401.440000   \n",
       "total_monthly_fee                 18.250000     35.500000     70.350000   \n",
       "total_refunds                      0.000000      0.000000      0.000000   \n",
       "age                               19.000000     32.000000     46.000000   \n",
       "num_dependents                     0.000000      0.000000      0.000000   \n",
       "zip_code                       90001.000000  92101.000000  93518.000000   \n",
       "area_id                            1.000000    350.000000    741.000000   \n",
       "latitutde                         32.555828     33.990646     36.205465   \n",
       "longitude                       -124.301372   -121.788090   -119.595293   \n",
       "population                        11.000000   2344.000000  17554.000000   \n",
       "status                             0.000000      0.000000      0.000000   \n",
       "\n",
       "                                        75%            max  \n",
       "num_referrals                      3.000000      11.000000  \n",
       "tenure_months                     55.000000      72.000000  \n",
       "avg_gb_download_monthly           27.000000      85.000000  \n",
       "avg_long_distance_fee_monthly     36.395000      49.990000  \n",
       "total_charges_quarter           3786.600000    8684.800000  \n",
       "total_long_distance_fee         1191.100000    3564.720000  \n",
       "total_monthly_fee                 89.850000     118.750000  \n",
       "total_refunds                      0.000000      49.790000  \n",
       "age                               60.000000      80.000000  \n",
       "num_dependents                     0.000000       9.000000  \n",
       "zip_code                       95329.000000   96150.000000  \n",
       "area_id                         1182.000000    1626.000000  \n",
       "latitutde                         38.161321      41.962127  \n",
       "longitude                       -117.969795    -114.192901  \n",
       "population                     36125.000000  105285.000000  \n",
       "status                             1.000000       1.000000  "
      ]
     },
     "execution_count": 4,
     "metadata": {},
     "output_type": "execute_result"
    }
   ],
   "source": [
    "churn_df.describe().T"
   ]
  },
  {
   "cell_type": "code",
   "execution_count": null,
   "id": "891ad330-4aae-49e7-aae4-b9de0c607d7a",
   "metadata": {},
   "outputs": [],
   "source": []
  },
  {
   "cell_type": "markdown",
   "id": "c2950620-8c96-4fd0-85d1-8ab303a382c1",
   "metadata": {},
   "source": [
    "### Data cleaning"
   ]
  },
  {
   "cell_type": "code",
   "execution_count": 5,
   "id": "149bee33-50eb-4ac8-a9ce-80eaeeb21b38",
   "metadata": {},
   "outputs": [],
   "source": [
    "churn_df['internet_type'] = churn_df['internet_type'].fillna('Missing')"
   ]
  },
  {
   "cell_type": "code",
   "execution_count": 6,
   "id": "b0843e91-1e53-43dd-8346-c3597bcc3ccc",
   "metadata": {},
   "outputs": [
    {
     "name": "stdout",
     "output_type": "stream",
     "text": [
      "4\n"
     ]
    },
    {
     "data": {
      "text/plain": [
       "internet_type\n",
       "Fiber Optic    3035\n",
       "DSL            1652\n",
       "Missing        1526\n",
       "Cable           830\n",
       "Name: count, dtype: int64"
      ]
     },
     "execution_count": 6,
     "metadata": {},
     "output_type": "execute_result"
    }
   ],
   "source": [
    "print(churn_df['internet_type'].nunique())\n",
    "churn_df['internet_type'].value_counts()"
   ]
  },
  {
   "cell_type": "code",
   "execution_count": null,
   "id": "7d10d21c-9ec9-47c5-a99c-ad9f2e2c46f2",
   "metadata": {},
   "outputs": [],
   "source": []
  },
  {
   "cell_type": "code",
   "execution_count": null,
   "id": "992c272a-933a-4843-88a5-085b6d64cee9",
   "metadata": {},
   "outputs": [],
   "source": []
  },
  {
   "cell_type": "markdown",
   "id": "67b3e014-0201-4890-8ce9-28c2eb0ba9a9",
   "metadata": {},
   "source": [
    "### Feature Engineering"
   ]
  },
  {
   "cell_type": "raw",
   "id": "a3e627b1-7ef8-4acd-aea5-9f24a62ce6a9",
   "metadata": {
    "collapsed": true,
    "jupyter": {
     "outputs_hidden": true
    }
   },
   "source": [
    "churn_df[churn_df['total_monthly_fee'] < churn_df['avg_long_distance_fee_monthly']][['total_monthly_fee', 'avg_long_distance_fee_monthly']]"
   ]
  },
  {
   "cell_type": "raw",
   "id": "2e94ea46-a5bc-4a8f-bf85-ecb32ede5123",
   "metadata": {},
   "source": [
    "churn_df['monthly_fee_per_gb'] = churn_df['total_monthly_fee'] / churn_df['avg_gb_download_monthly']"
   ]
  },
  {
   "cell_type": "code",
   "execution_count": null,
   "id": "0f63ef9f-95e9-4424-9a71-59ded1bea197",
   "metadata": {},
   "outputs": [],
   "source": []
  },
  {
   "cell_type": "raw",
   "id": "b43961af-5261-4aa4-9e07-370a618dbd98",
   "metadata": {
    "collapsed": true,
    "jupyter": {
     "outputs_hidden": true
    }
   },
   "source": [
    "churn_df[churn_df['total_refunds'] > 0]"
   ]
  },
  {
   "cell_type": "raw",
   "id": "e4dbd96c-1e66-480c-bd87-9e2cf4fbf97b",
   "metadata": {},
   "source": [
    "churn_df['net_charges_quarter'] = churn_df['total_charges_quarter'] - churn_df['total_refunds']"
   ]
  },
  {
   "cell_type": "code",
   "execution_count": null,
   "id": "e509b7c3-6dc7-40e0-bbde-46f6ae7c8b8f",
   "metadata": {},
   "outputs": [],
   "source": []
  },
  {
   "cell_type": "raw",
   "id": "e5b83d3c-5c28-459b-90bc-eef323617ab3",
   "metadata": {
    "collapsed": true,
    "jupyter": {
     "outputs_hidden": true
    }
   },
   "source": [
    "churn_df[churn_df['total_charges_quarter'] < churn_df['total_long_distance_fee']][['total_charges_quarter', 'total_long_distance_fee', 'total_refunds']]"
   ]
  },
  {
   "cell_type": "raw",
   "id": "de02ec09-2a5a-498f-a78a-10c129560ac6",
   "metadata": {
    "collapsed": true,
    "jupyter": {
     "outputs_hidden": true
    }
   },
   "source": [
    "churn_df[churn_df['total_charges_quarter'] > churn_df['total_long_distance_fee']][['total_charges_quarter', 'total_long_distance_fee', 'total_refunds']]"
   ]
  },
  {
   "cell_type": "raw",
   "id": "f5cdb4d5-367b-4104-b251-04e1ccc8d435",
   "metadata": {},
   "source": [
    "churn_df['ld_to_total_charge_ratio'] = churn_df['total_long_distance_fee'] / churn_df['total_charges_quarter']"
   ]
  },
  {
   "cell_type": "raw",
   "id": "e38a319b-bba6-487b-92d6-c1cf3632016b",
   "metadata": {},
   "source": [
    "churn_df['ld_to_net_charge_ratio'] = churn_df['total_long_distance_fee'] / churn_df['net_charges_quarter']"
   ]
  },
  {
   "cell_type": "raw",
   "id": "cf370711-4689-4e33-b174-30d6660c9606",
   "metadata": {},
   "source": [
    "churn_df['total_charge_to_monthly_fee'] = churn_df['total_charges_quarter'] / churn_df['total_monthly_fee']"
   ]
  },
  {
   "cell_type": "raw",
   "id": "5c94f673-77f9-4866-8ac0-8a784feee526",
   "metadata": {},
   "source": [
    "churn_df['net_charge_to_monthly_fee'] = churn_df['net_charges_quarter'] / churn_df['total_monthly_fee']"
   ]
  },
  {
   "cell_type": "raw",
   "id": "59188e40-ef10-4212-a2e6-f2d02002b168",
   "metadata": {},
   "source": [
    "churn_df['avg_ld_to_monthly_fee'] = churn_df['avg_long_distance_fee_monthly'] / churn_df['total_monthly_fee']"
   ]
  },
  {
   "cell_type": "raw",
   "id": "7ddd7763-b1e7-4dd7-bd67-a8a109801d86",
   "metadata": {},
   "source": [
    "churn_df['total_ld_to_monthly_fee'] = churn_df['total_long_distance_fee'] / churn_df['total_monthly_fee']"
   ]
  },
  {
   "cell_type": "code",
   "execution_count": null,
   "id": "8dcb7167-8860-42ac-9d65-6342853f8f82",
   "metadata": {},
   "outputs": [],
   "source": []
  },
  {
   "cell_type": "code",
   "execution_count": 7,
   "id": "1938f2e6-a9df-452d-a44b-5b57cdc388e1",
   "metadata": {},
   "outputs": [
    {
     "data": {
      "text/plain": [
       "num_referrals\n",
       "0     3821\n",
       "1     1086\n",
       "5      264\n",
       "3      255\n",
       "7      248\n",
       "9      238\n",
       "4      236\n",
       "2      236\n",
       "10     223\n",
       "6      221\n",
       "8      213\n",
       "11       2\n",
       "Name: count, dtype: int64"
      ]
     },
     "execution_count": 7,
     "metadata": {},
     "output_type": "execute_result"
    }
   ],
   "source": [
    "churn_df['num_referrals'].value_counts()"
   ]
  },
  {
   "cell_type": "code",
   "execution_count": 8,
   "id": "54adb51e-e287-48ee-9f8e-719019d8efea",
   "metadata": {},
   "outputs": [
    {
     "data": {
      "text/html": [
       "<div>\n",
       "<style scoped>\n",
       "    .dataframe tbody tr th:only-of-type {\n",
       "        vertical-align: middle;\n",
       "    }\n",
       "\n",
       "    .dataframe tbody tr th {\n",
       "        vertical-align: top;\n",
       "    }\n",
       "\n",
       "    .dataframe thead th {\n",
       "        text-align: right;\n",
       "    }\n",
       "</style>\n",
       "<table border=\"1\" class=\"dataframe\">\n",
       "  <thead>\n",
       "    <tr style=\"text-align: right;\">\n",
       "      <th></th>\n",
       "      <th>num_referrals</th>\n",
       "      <th>count</th>\n",
       "      <th>churn_rate</th>\n",
       "    </tr>\n",
       "  </thead>\n",
       "  <tbody>\n",
       "    <tr>\n",
       "      <th>1</th>\n",
       "      <td>1</td>\n",
       "      <td>1086</td>\n",
       "      <td>0.466851</td>\n",
       "    </tr>\n",
       "    <tr>\n",
       "      <th>0</th>\n",
       "      <td>0</td>\n",
       "      <td>3821</td>\n",
       "      <td>0.325831</td>\n",
       "    </tr>\n",
       "    <tr>\n",
       "      <th>3</th>\n",
       "      <td>3</td>\n",
       "      <td>255</td>\n",
       "      <td>0.125490</td>\n",
       "    </tr>\n",
       "    <tr>\n",
       "      <th>2</th>\n",
       "      <td>2</td>\n",
       "      <td>236</td>\n",
       "      <td>0.110169</td>\n",
       "    </tr>\n",
       "    <tr>\n",
       "      <th>5</th>\n",
       "      <td>5</td>\n",
       "      <td>264</td>\n",
       "      <td>0.079545</td>\n",
       "    </tr>\n",
       "    <tr>\n",
       "      <th>4</th>\n",
       "      <td>4</td>\n",
       "      <td>236</td>\n",
       "      <td>0.076271</td>\n",
       "    </tr>\n",
       "    <tr>\n",
       "      <th>6</th>\n",
       "      <td>6</td>\n",
       "      <td>221</td>\n",
       "      <td>0.036199</td>\n",
       "    </tr>\n",
       "    <tr>\n",
       "      <th>7</th>\n",
       "      <td>7</td>\n",
       "      <td>248</td>\n",
       "      <td>0.024194</td>\n",
       "    </tr>\n",
       "    <tr>\n",
       "      <th>9</th>\n",
       "      <td>9</td>\n",
       "      <td>238</td>\n",
       "      <td>0.016807</td>\n",
       "    </tr>\n",
       "    <tr>\n",
       "      <th>8</th>\n",
       "      <td>8</td>\n",
       "      <td>213</td>\n",
       "      <td>0.009390</td>\n",
       "    </tr>\n",
       "    <tr>\n",
       "      <th>10</th>\n",
       "      <td>10</td>\n",
       "      <td>223</td>\n",
       "      <td>0.000000</td>\n",
       "    </tr>\n",
       "    <tr>\n",
       "      <th>11</th>\n",
       "      <td>11</td>\n",
       "      <td>2</td>\n",
       "      <td>0.000000</td>\n",
       "    </tr>\n",
       "  </tbody>\n",
       "</table>\n",
       "</div>"
      ],
      "text/plain": [
       "    num_referrals  count  churn_rate\n",
       "1               1   1086    0.466851\n",
       "0               0   3821    0.325831\n",
       "3               3    255    0.125490\n",
       "2               2    236    0.110169\n",
       "5               5    264    0.079545\n",
       "4               4    236    0.076271\n",
       "6               6    221    0.036199\n",
       "7               7    248    0.024194\n",
       "9               9    238    0.016807\n",
       "8               8    213    0.009390\n",
       "10             10    223    0.000000\n",
       "11             11      2    0.000000"
      ]
     },
     "execution_count": 8,
     "metadata": {},
     "output_type": "execute_result"
    }
   ],
   "source": [
    "(churn_df.groupby(['num_referrals'])\n",
    "    .agg(count = ('account_id', 'count'),\n",
    "         churn_rate = ('status', 'mean'))\n",
    "    .reset_index()\n",
    "    .sort_values(by=['churn_rate'], ascending=False)\n",
    ")"
   ]
  },
  {
   "cell_type": "code",
   "execution_count": 9,
   "id": "dca0b951-605d-441f-8405-857f3d842e74",
   "metadata": {},
   "outputs": [
    {
     "data": {
      "text/plain": [
       "referrals_category\n",
       "0-1    4907\n",
       "6+     1145\n",
       "4-5     500\n",
       "2-3     491\n",
       "Name: count, dtype: int64"
      ]
     },
     "execution_count": 9,
     "metadata": {},
     "output_type": "execute_result"
    }
   ],
   "source": [
    "churn_df['referrals_category'] = np.where(churn_df['num_referrals'] <= 1, '0-1',\n",
    "                                 np.where(churn_df['num_referrals'] <= 3, '2-3',\n",
    "                                 np.where(churn_df['num_referrals'] <= 5, '4-5',\n",
    "                                 '6+'\n",
    ")))\n",
    "\n",
    "churn_df['referrals_category'].value_counts()"
   ]
  },
  {
   "cell_type": "code",
   "execution_count": null,
   "id": "d7c6bf5e-2f60-4436-9ea2-ada0af542593",
   "metadata": {},
   "outputs": [],
   "source": []
  },
  {
   "cell_type": "code",
   "execution_count": 10,
   "id": "93dc0ae5-7cd2-4cf7-a3b3-3fbfdab623ef",
   "metadata": {},
   "outputs": [
    {
     "data": {
      "text/html": [
       "<div>\n",
       "<style scoped>\n",
       "    .dataframe tbody tr th:only-of-type {\n",
       "        vertical-align: middle;\n",
       "    }\n",
       "\n",
       "    .dataframe tbody tr th {\n",
       "        vertical-align: top;\n",
       "    }\n",
       "\n",
       "    .dataframe thead th {\n",
       "        text-align: right;\n",
       "    }\n",
       "</style>\n",
       "<table border=\"1\" class=\"dataframe\">\n",
       "  <thead>\n",
       "    <tr style=\"text-align: right;\">\n",
       "      <th></th>\n",
       "      <th>num_dependents</th>\n",
       "      <th>count</th>\n",
       "      <th>churn_rate</th>\n",
       "    </tr>\n",
       "  </thead>\n",
       "  <tbody>\n",
       "    <tr>\n",
       "      <th>7</th>\n",
       "      <td>7</td>\n",
       "      <td>2</td>\n",
       "      <td>0.500000</td>\n",
       "    </tr>\n",
       "    <tr>\n",
       "      <th>6</th>\n",
       "      <td>6</td>\n",
       "      <td>3</td>\n",
       "      <td>0.333333</td>\n",
       "    </tr>\n",
       "    <tr>\n",
       "      <th>0</th>\n",
       "      <td>0</td>\n",
       "      <td>5416</td>\n",
       "      <td>0.325517</td>\n",
       "    </tr>\n",
       "    <tr>\n",
       "      <th>5</th>\n",
       "      <td>5</td>\n",
       "      <td>10</td>\n",
       "      <td>0.200000</td>\n",
       "    </tr>\n",
       "    <tr>\n",
       "      <th>4</th>\n",
       "      <td>4</td>\n",
       "      <td>9</td>\n",
       "      <td>0.111111</td>\n",
       "    </tr>\n",
       "    <tr>\n",
       "      <th>1</th>\n",
       "      <td>1</td>\n",
       "      <td>553</td>\n",
       "      <td>0.068716</td>\n",
       "    </tr>\n",
       "    <tr>\n",
       "      <th>2</th>\n",
       "      <td>2</td>\n",
       "      <td>531</td>\n",
       "      <td>0.062147</td>\n",
       "    </tr>\n",
       "    <tr>\n",
       "      <th>3</th>\n",
       "      <td>3</td>\n",
       "      <td>517</td>\n",
       "      <td>0.058027</td>\n",
       "    </tr>\n",
       "    <tr>\n",
       "      <th>8</th>\n",
       "      <td>8</td>\n",
       "      <td>1</td>\n",
       "      <td>0.000000</td>\n",
       "    </tr>\n",
       "    <tr>\n",
       "      <th>9</th>\n",
       "      <td>9</td>\n",
       "      <td>1</td>\n",
       "      <td>0.000000</td>\n",
       "    </tr>\n",
       "  </tbody>\n",
       "</table>\n",
       "</div>"
      ],
      "text/plain": [
       "   num_dependents  count  churn_rate\n",
       "7               7      2    0.500000\n",
       "6               6      3    0.333333\n",
       "0               0   5416    0.325517\n",
       "5               5     10    0.200000\n",
       "4               4      9    0.111111\n",
       "1               1    553    0.068716\n",
       "2               2    531    0.062147\n",
       "3               3    517    0.058027\n",
       "8               8      1    0.000000\n",
       "9               9      1    0.000000"
      ]
     },
     "execution_count": 10,
     "metadata": {},
     "output_type": "execute_result"
    }
   ],
   "source": [
    "(churn_df.groupby(['num_dependents'])\n",
    "    .agg(count = ('account_id', 'count'),\n",
    "         churn_rate = ('status', 'mean'))\n",
    "    .reset_index()\n",
    "    .sort_values(by=['churn_rate'], ascending=False)\n",
    ")"
   ]
  },
  {
   "cell_type": "code",
   "execution_count": 11,
   "id": "e943b329-860e-43a5-9fb5-b751d7967e32",
   "metadata": {},
   "outputs": [],
   "source": [
    "\n",
    "churn_df['has_dependents'] = np.where(churn_df['num_dependents'] == 0, 'No', 'Yes')\n"
   ]
  },
  {
   "cell_type": "code",
   "execution_count": 12,
   "id": "471dd0eb-9d04-43c5-9970-362acca4931e",
   "metadata": {},
   "outputs": [
    {
     "data": {
      "text/plain": [
       "has_dependents\n",
       "No     5416\n",
       "Yes    1627\n",
       "Name: count, dtype: int64"
      ]
     },
     "execution_count": 12,
     "metadata": {},
     "output_type": "execute_result"
    }
   ],
   "source": [
    "churn_df['has_dependents'].value_counts()"
   ]
  },
  {
   "cell_type": "code",
   "execution_count": null,
   "id": "19f2c5bf-6afb-43f7-bce2-69d4dcddcec7",
   "metadata": {},
   "outputs": [],
   "source": []
  },
  {
   "cell_type": "code",
   "execution_count": null,
   "id": "50dde347-479a-4617-9346-88e74aaefd46",
   "metadata": {},
   "outputs": [],
   "source": []
  },
  {
   "cell_type": "code",
   "execution_count": 13,
   "id": "633781ed-d529-41ed-9c1d-6cd972e348c9",
   "metadata": {},
   "outputs": [
    {
     "data": {
      "text/html": [
       "<div>\n",
       "<style scoped>\n",
       "    .dataframe tbody tr th:only-of-type {\n",
       "        vertical-align: middle;\n",
       "    }\n",
       "\n",
       "    .dataframe tbody tr th {\n",
       "        vertical-align: top;\n",
       "    }\n",
       "\n",
       "    .dataframe thead th {\n",
       "        text-align: right;\n",
       "    }\n",
       "</style>\n",
       "<table border=\"1\" class=\"dataframe\">\n",
       "  <thead>\n",
       "    <tr style=\"text-align: right;\">\n",
       "      <th></th>\n",
       "      <th>account_id</th>\n",
       "      <th>contract_type</th>\n",
       "      <th>customer_id</th>\n",
       "      <th>has_device_protection</th>\n",
       "      <th>has_internet_service</th>\n",
       "      <th>has_multiple_lines</th>\n",
       "      <th>has_online_backup</th>\n",
       "      <th>has_online_security</th>\n",
       "      <th>has_phone_service</th>\n",
       "      <th>has_premium_tech_support</th>\n",
       "      <th>...</th>\n",
       "      <th>num_dependents</th>\n",
       "      <th>senior_citizen</th>\n",
       "      <th>zip_code</th>\n",
       "      <th>area_id</th>\n",
       "      <th>city</th>\n",
       "      <th>latitutde</th>\n",
       "      <th>longitude</th>\n",
       "      <th>population</th>\n",
       "      <th>referrals_category</th>\n",
       "      <th>has_dependents</th>\n",
       "    </tr>\n",
       "  </thead>\n",
       "  <tbody>\n",
       "    <tr>\n",
       "      <th>0</th>\n",
       "      <td>AAJU-HMJLK</td>\n",
       "      <td>One Year</td>\n",
       "      <td>0334-ZFJSR</td>\n",
       "      <td>No</td>\n",
       "      <td>Yes</td>\n",
       "      <td>Yes</td>\n",
       "      <td>Yes</td>\n",
       "      <td>Yes</td>\n",
       "      <td>Yes</td>\n",
       "      <td>Yes</td>\n",
       "      <td>...</td>\n",
       "      <td>0</td>\n",
       "      <td>No</td>\n",
       "      <td>92123</td>\n",
       "      <td>371</td>\n",
       "      <td>San Diego</td>\n",
       "      <td>32.808814</td>\n",
       "      <td>-117.134694</td>\n",
       "      <td>25232</td>\n",
       "      <td>0-1</td>\n",
       "      <td>No</td>\n",
       "    </tr>\n",
       "    <tr>\n",
       "      <th>1</th>\n",
       "      <td>AAMB-TJYWC</td>\n",
       "      <td>Two Year</td>\n",
       "      <td>4006-HKYHO</td>\n",
       "      <td>Yes</td>\n",
       "      <td>Yes</td>\n",
       "      <td>No</td>\n",
       "      <td>Yes</td>\n",
       "      <td>Yes</td>\n",
       "      <td>Yes</td>\n",
       "      <td>Yes</td>\n",
       "      <td>...</td>\n",
       "      <td>0</td>\n",
       "      <td>No</td>\n",
       "      <td>93311</td>\n",
       "      <td>696</td>\n",
       "      <td>Bakersfield</td>\n",
       "      <td>35.162070</td>\n",
       "      <td>-119.194488</td>\n",
       "      <td>20440</td>\n",
       "      <td>0-1</td>\n",
       "      <td>No</td>\n",
       "    </tr>\n",
       "    <tr>\n",
       "      <th>2</th>\n",
       "      <td>AANL-MWPZF</td>\n",
       "      <td>Two Year</td>\n",
       "      <td>3258-SYSWS</td>\n",
       "      <td>Yes</td>\n",
       "      <td>Yes</td>\n",
       "      <td>Yes</td>\n",
       "      <td>Yes</td>\n",
       "      <td>Yes</td>\n",
       "      <td>Yes</td>\n",
       "      <td>Yes</td>\n",
       "      <td>...</td>\n",
       "      <td>0</td>\n",
       "      <td>Yes</td>\n",
       "      <td>92040</td>\n",
       "      <td>329</td>\n",
       "      <td>Lakeside</td>\n",
       "      <td>32.909873</td>\n",
       "      <td>-116.906774</td>\n",
       "      <td>42277</td>\n",
       "      <td>0-1</td>\n",
       "      <td>No</td>\n",
       "    </tr>\n",
       "    <tr>\n",
       "      <th>3</th>\n",
       "      <td>ABBQ-EXMMW</td>\n",
       "      <td>Two Year</td>\n",
       "      <td>1820-DJFPH</td>\n",
       "      <td>No</td>\n",
       "      <td>No</td>\n",
       "      <td>Yes</td>\n",
       "      <td>No</td>\n",
       "      <td>No</td>\n",
       "      <td>Yes</td>\n",
       "      <td>No</td>\n",
       "      <td>...</td>\n",
       "      <td>3</td>\n",
       "      <td>No</td>\n",
       "      <td>95555</td>\n",
       "      <td>1310</td>\n",
       "      <td>Orick</td>\n",
       "      <td>41.336354</td>\n",
       "      <td>-124.044354</td>\n",
       "      <td>494</td>\n",
       "      <td>4-5</td>\n",
       "      <td>Yes</td>\n",
       "    </tr>\n",
       "    <tr>\n",
       "      <th>4</th>\n",
       "      <td>ABHW-EXJZF</td>\n",
       "      <td>Two Year</td>\n",
       "      <td>0582-AVCLN</td>\n",
       "      <td>No</td>\n",
       "      <td>No</td>\n",
       "      <td>No</td>\n",
       "      <td>No</td>\n",
       "      <td>No</td>\n",
       "      <td>Yes</td>\n",
       "      <td>No</td>\n",
       "      <td>...</td>\n",
       "      <td>0</td>\n",
       "      <td>No</td>\n",
       "      <td>93304</td>\n",
       "      <td>690</td>\n",
       "      <td>Bakersfield</td>\n",
       "      <td>35.339796</td>\n",
       "      <td>-119.023552</td>\n",
       "      <td>44588</td>\n",
       "      <td>0-1</td>\n",
       "      <td>No</td>\n",
       "    </tr>\n",
       "    <tr>\n",
       "      <th>...</th>\n",
       "      <td>...</td>\n",
       "      <td>...</td>\n",
       "      <td>...</td>\n",
       "      <td>...</td>\n",
       "      <td>...</td>\n",
       "      <td>...</td>\n",
       "      <td>...</td>\n",
       "      <td>...</td>\n",
       "      <td>...</td>\n",
       "      <td>...</td>\n",
       "      <td>...</td>\n",
       "      <td>...</td>\n",
       "      <td>...</td>\n",
       "      <td>...</td>\n",
       "      <td>...</td>\n",
       "      <td>...</td>\n",
       "      <td>...</td>\n",
       "      <td>...</td>\n",
       "      <td>...</td>\n",
       "      <td>...</td>\n",
       "      <td>...</td>\n",
       "    </tr>\n",
       "    <tr>\n",
       "      <th>7038</th>\n",
       "      <td>ZWXF-QGPFD</td>\n",
       "      <td>One Year</td>\n",
       "      <td>6848-YLDFR</td>\n",
       "      <td>No</td>\n",
       "      <td>Yes</td>\n",
       "      <td>No</td>\n",
       "      <td>Yes</td>\n",
       "      <td>No</td>\n",
       "      <td>Yes</td>\n",
       "      <td>Yes</td>\n",
       "      <td>...</td>\n",
       "      <td>2</td>\n",
       "      <td>No</td>\n",
       "      <td>96035</td>\n",
       "      <td>1546</td>\n",
       "      <td>Gerber</td>\n",
       "      <td>40.031940</td>\n",
       "      <td>-122.176023</td>\n",
       "      <td>3357</td>\n",
       "      <td>6+</td>\n",
       "      <td>Yes</td>\n",
       "    </tr>\n",
       "    <tr>\n",
       "      <th>7039</th>\n",
       "      <td>ZXNR-BOLMC</td>\n",
       "      <td>Month-to-Month</td>\n",
       "      <td>7587-AOVVU</td>\n",
       "      <td>No</td>\n",
       "      <td>Yes</td>\n",
       "      <td>Yes</td>\n",
       "      <td>Yes</td>\n",
       "      <td>Yes</td>\n",
       "      <td>Yes</td>\n",
       "      <td>Yes</td>\n",
       "      <td>...</td>\n",
       "      <td>1</td>\n",
       "      <td>No</td>\n",
       "      <td>95521</td>\n",
       "      <td>1289</td>\n",
       "      <td>Arcata</td>\n",
       "      <td>40.839958</td>\n",
       "      <td>-124.003757</td>\n",
       "      <td>19596</td>\n",
       "      <td>0-1</td>\n",
       "      <td>Yes</td>\n",
       "    </tr>\n",
       "    <tr>\n",
       "      <th>7040</th>\n",
       "      <td>ZXYG-EZZNH</td>\n",
       "      <td>Month-to-Month</td>\n",
       "      <td>7479-NITWS</td>\n",
       "      <td>Yes</td>\n",
       "      <td>Yes</td>\n",
       "      <td>Yes</td>\n",
       "      <td>No</td>\n",
       "      <td>No</td>\n",
       "      <td>Yes</td>\n",
       "      <td>No</td>\n",
       "      <td>...</td>\n",
       "      <td>0</td>\n",
       "      <td>No</td>\n",
       "      <td>92341</td>\n",
       "      <td>451</td>\n",
       "      <td>Green Valley Lake</td>\n",
       "      <td>34.244411</td>\n",
       "      <td>-117.072654</td>\n",
       "      <td>317</td>\n",
       "      <td>0-1</td>\n",
       "      <td>No</td>\n",
       "    </tr>\n",
       "    <tr>\n",
       "      <th>7041</th>\n",
       "      <td>ZYQO-YPQDV</td>\n",
       "      <td>Two Year</td>\n",
       "      <td>8910-LEDAG</td>\n",
       "      <td>No</td>\n",
       "      <td>Yes</td>\n",
       "      <td>No</td>\n",
       "      <td>No</td>\n",
       "      <td>No</td>\n",
       "      <td>Yes</td>\n",
       "      <td>No</td>\n",
       "      <td>...</td>\n",
       "      <td>0</td>\n",
       "      <td>Yes</td>\n",
       "      <td>93651</td>\n",
       "      <td>805</td>\n",
       "      <td>Prather</td>\n",
       "      <td>37.007238</td>\n",
       "      <td>-119.505661</td>\n",
       "      <td>1314</td>\n",
       "      <td>2-3</td>\n",
       "      <td>No</td>\n",
       "    </tr>\n",
       "    <tr>\n",
       "      <th>7042</th>\n",
       "      <td>ZZGW-JETUZ</td>\n",
       "      <td>Month-to-Month</td>\n",
       "      <td>7107-UBYKY</td>\n",
       "      <td>No</td>\n",
       "      <td>No</td>\n",
       "      <td>Yes</td>\n",
       "      <td>No</td>\n",
       "      <td>No</td>\n",
       "      <td>Yes</td>\n",
       "      <td>No</td>\n",
       "      <td>...</td>\n",
       "      <td>1</td>\n",
       "      <td>No</td>\n",
       "      <td>95982</td>\n",
       "      <td>1511</td>\n",
       "      <td>Sutter</td>\n",
       "      <td>39.172777</td>\n",
       "      <td>-121.805845</td>\n",
       "      <td>3193</td>\n",
       "      <td>4-5</td>\n",
       "      <td>Yes</td>\n",
       "    </tr>\n",
       "  </tbody>\n",
       "</table>\n",
       "<p>7043 rows × 38 columns</p>\n",
       "</div>"
      ],
      "text/plain": [
       "      account_id   contract_type customer_id has_device_protection  \\\n",
       "0     AAJU-HMJLK        One Year  0334-ZFJSR                    No   \n",
       "1     AAMB-TJYWC        Two Year  4006-HKYHO                   Yes   \n",
       "2     AANL-MWPZF        Two Year  3258-SYSWS                   Yes   \n",
       "3     ABBQ-EXMMW        Two Year  1820-DJFPH                    No   \n",
       "4     ABHW-EXJZF        Two Year  0582-AVCLN                    No   \n",
       "...          ...             ...         ...                   ...   \n",
       "7038  ZWXF-QGPFD        One Year  6848-YLDFR                    No   \n",
       "7039  ZXNR-BOLMC  Month-to-Month  7587-AOVVU                    No   \n",
       "7040  ZXYG-EZZNH  Month-to-Month  7479-NITWS                   Yes   \n",
       "7041  ZYQO-YPQDV        Two Year  8910-LEDAG                    No   \n",
       "7042  ZZGW-JETUZ  Month-to-Month  7107-UBYKY                    No   \n",
       "\n",
       "     has_internet_service has_multiple_lines has_online_backup  \\\n",
       "0                     Yes                Yes               Yes   \n",
       "1                     Yes                 No               Yes   \n",
       "2                     Yes                Yes               Yes   \n",
       "3                      No                Yes                No   \n",
       "4                      No                 No                No   \n",
       "...                   ...                ...               ...   \n",
       "7038                  Yes                 No               Yes   \n",
       "7039                  Yes                Yes               Yes   \n",
       "7040                  Yes                Yes                No   \n",
       "7041                  Yes                 No                No   \n",
       "7042                   No                Yes                No   \n",
       "\n",
       "     has_online_security has_phone_service has_premium_tech_support  ...  \\\n",
       "0                    Yes               Yes                      Yes  ...   \n",
       "1                    Yes               Yes                      Yes  ...   \n",
       "2                    Yes               Yes                      Yes  ...   \n",
       "3                     No               Yes                       No  ...   \n",
       "4                     No               Yes                       No  ...   \n",
       "...                  ...               ...                      ...  ...   \n",
       "7038                  No               Yes                      Yes  ...   \n",
       "7039                 Yes               Yes                      Yes  ...   \n",
       "7040                  No               Yes                       No  ...   \n",
       "7041                  No               Yes                       No  ...   \n",
       "7042                  No               Yes                       No  ...   \n",
       "\n",
       "     num_dependents senior_citizen  zip_code area_id               city  \\\n",
       "0                 0             No     92123     371          San Diego   \n",
       "1                 0             No     93311     696        Bakersfield   \n",
       "2                 0            Yes     92040     329           Lakeside   \n",
       "3                 3             No     95555    1310              Orick   \n",
       "4                 0             No     93304     690        Bakersfield   \n",
       "...             ...            ...       ...     ...                ...   \n",
       "7038              2             No     96035    1546             Gerber   \n",
       "7039              1             No     95521    1289             Arcata   \n",
       "7040              0             No     92341     451  Green Valley Lake   \n",
       "7041              0            Yes     93651     805            Prather   \n",
       "7042              1             No     95982    1511             Sutter   \n",
       "\n",
       "      latitutde   longitude  population referrals_category has_dependents  \n",
       "0     32.808814 -117.134694       25232                0-1             No  \n",
       "1     35.162070 -119.194488       20440                0-1             No  \n",
       "2     32.909873 -116.906774       42277                0-1             No  \n",
       "3     41.336354 -124.044354         494                4-5            Yes  \n",
       "4     35.339796 -119.023552       44588                0-1             No  \n",
       "...         ...         ...         ...                ...            ...  \n",
       "7038  40.031940 -122.176023        3357                 6+            Yes  \n",
       "7039  40.839958 -124.003757       19596                0-1            Yes  \n",
       "7040  34.244411 -117.072654         317                0-1             No  \n",
       "7041  37.007238 -119.505661        1314                2-3             No  \n",
       "7042  39.172777 -121.805845        3193                4-5            Yes  \n",
       "\n",
       "[7043 rows x 38 columns]"
      ]
     },
     "execution_count": 13,
     "metadata": {},
     "output_type": "execute_result"
    }
   ],
   "source": [
    "\n",
    "X = churn_df.drop(columns=['status'])\n",
    "X"
   ]
  },
  {
   "cell_type": "code",
   "execution_count": 14,
   "id": "86dd21f2-207b-4ab1-ac0e-5d59db2905ea",
   "metadata": {},
   "outputs": [
    {
     "data": {
      "text/plain": [
       "0       0\n",
       "1       0\n",
       "2       0\n",
       "3       0\n",
       "4       0\n",
       "       ..\n",
       "7038    0\n",
       "7039    0\n",
       "7040    1\n",
       "7041    0\n",
       "7042    0\n",
       "Name: status, Length: 7043, dtype: int64"
      ]
     },
     "execution_count": 14,
     "metadata": {},
     "output_type": "execute_result"
    }
   ],
   "source": [
    "y = churn_df['status']\n",
    "y"
   ]
  },
  {
   "cell_type": "markdown",
   "id": "19902c37-75df-4419-940a-ae141e1d98f8",
   "metadata": {},
   "source": [
    "### Models"
   ]
  },
  {
   "cell_type": "code",
   "execution_count": 15,
   "id": "9403b531-bb6f-42ec-ad09-701efea62aff",
   "metadata": {},
   "outputs": [],
   "source": [
    "from sklearn.model_selection import StratifiedKFold\n",
    "\n",
    "k = 10\n",
    "skf = StratifiedKFold(n_splits=k, random_state=5, shuffle=True)"
   ]
  },
  {
   "cell_type": "raw",
   "id": "0ab562fa-bfea-43e1-aa7a-28bd42304d01",
   "metadata": {},
   "source": [
    "for i, (train_index, test_index) in enumerate(skf.split(X, y)):\n",
    "    print(f\"Fold {i}:\")\n",
    "    print(f\"  Train: index={train_index[:10]}\")\n",
    "    print(f\"  Test:  index={test_index[:10]}\")"
   ]
  },
  {
   "cell_type": "code",
   "execution_count": null,
   "id": "723f9e0c-e37a-4ceb-ad12-28b277a058b8",
   "metadata": {},
   "outputs": [],
   "source": []
  },
  {
   "cell_type": "code",
   "execution_count": 16,
   "id": "1005cc28-93d0-433d-a801-9b31535736ee",
   "metadata": {},
   "outputs": [
    {
     "data": {
      "text/plain": [
       "['contract_type',\n",
       " 'referrals_category',\n",
       " 'has_dependents',\n",
       " 'internet_type',\n",
       " 'payment_method',\n",
       " 'tenure_months',\n",
       " 'total_monthly_fee',\n",
       " 'total_charges_quarter',\n",
       " 'married',\n",
       " 'senior_citizen',\n",
       " 'city']"
      ]
     },
     "execution_count": 16,
     "metadata": {},
     "output_type": "execute_result"
    }
   ],
   "source": [
    "cols_to_drop = ['account_id', 'customer_id', 'status']\n",
    "\n",
    "#cb_features = [c for c in X.columns if c not in cols_to_drop]\n",
    "\n",
    "cb_features = [\n",
    "    'contract_type',\n",
    "    #'num_referrals',\n",
    "    'referrals_category',\n",
    "    #'num_dependents',\n",
    "    'has_dependents',\n",
    "    'internet_type',\n",
    "    'payment_method',\n",
    "    'tenure_months',\n",
    "    'total_monthly_fee',\n",
    "    'total_charges_quarter',\n",
    "    'married',\n",
    "    'senior_citizen',\n",
    "    'city'\n",
    "]\n",
    "\n",
    "cb_features"
   ]
  },
  {
   "cell_type": "raw",
   "id": "ba132d01-7bbb-4f60-9723-83421fed63d7",
   "metadata": {
    "collapsed": true,
    "jupyter": {
     "outputs_hidden": true
    },
    "scrolled": true
   },
   "source": [
    "X[cb_features].info()"
   ]
  },
  {
   "cell_type": "raw",
   "id": "0a198858-1262-41f0-982a-1fd74fa610ce",
   "metadata": {
    "collapsed": true,
    "jupyter": {
     "outputs_hidden": true
    }
   },
   "source": [
    "X[cb_features].select_dtypes(exclude='number').info()"
   ]
  },
  {
   "cell_type": "code",
   "execution_count": 17,
   "id": "9bb04cf7-2797-4ff7-8ae5-f36c0c67d210",
   "metadata": {},
   "outputs": [
    {
     "data": {
      "text/plain": [
       "['contract_type',\n",
       " 'referrals_category',\n",
       " 'has_dependents',\n",
       " 'internet_type',\n",
       " 'payment_method',\n",
       " 'married',\n",
       " 'senior_citizen',\n",
       " 'city']"
      ]
     },
     "execution_count": 17,
     "metadata": {},
     "output_type": "execute_result"
    }
   ],
   "source": [
    "cb_cate_cols = X[cb_features].select_dtypes(exclude='number').columns.to_list()\n",
    "cb_cate_cols"
   ]
  },
  {
   "cell_type": "code",
   "execution_count": null,
   "id": "a322e330-76b0-43c8-afef-e1548f77e56d",
   "metadata": {},
   "outputs": [],
   "source": []
  },
  {
   "cell_type": "code",
   "execution_count": 18,
   "id": "d1a17654-3352-4c92-8dea-d38e34a40c79",
   "metadata": {},
   "outputs": [],
   "source": [
    "from catboost import CatBoostClassifier\n",
    "\n",
    "from sklearn.metrics import roc_auc_score\n"
   ]
  },
  {
   "cell_type": "code",
   "execution_count": null,
   "id": "f4485256-7a0f-403b-a82d-895d01fa7645",
   "metadata": {},
   "outputs": [],
   "source": [
    "from skopt.space import Integer\n",
    "from skopt.space import Real\n",
    "from skopt.space import Categorical\n",
    "from skopt.utils import use_named_args\n",
    "from skopt import gp_minimize"
   ]
  },
  {
   "cell_type": "code",
   "execution_count": 72,
   "id": "7fd61f9d-c55d-427a-a758-dd59b65562ac",
   "metadata": {},
   "outputs": [
    {
     "name": "stdout",
     "output_type": "stream",
     "text": [
      "Fold 0:\n",
      "0:\tlearn: 0.6190697\ttest: 0.6169695\tbest: 0.6169695 (0)\ttotal: 29.9ms\tremaining: 29.9s\n",
      "100:\tlearn: 0.2936713\ttest: 0.3016207\tbest: 0.3015049 (98)\ttotal: 4.01s\tremaining: 35.7s\n",
      "Stopped by overfitting detector  (25 iterations wait)\n",
      "\n",
      "bestTest = 0.3015049497\n",
      "bestIteration = 98\n",
      "\n",
      "Shrink model to first 99 iterations.\n",
      "=========\n",
      "\n",
      "Fold 1:\n",
      "0:\tlearn: 0.6147059\ttest: 0.6117546\tbest: 0.6117546 (0)\ttotal: 30.1ms\tremaining: 30s\n",
      "100:\tlearn: 0.2933954\ttest: 0.3034269\tbest: 0.3032960 (98)\ttotal: 4.09s\tremaining: 36.4s\n",
      "Stopped by overfitting detector  (25 iterations wait)\n",
      "\n",
      "bestTest = 0.3013215083\n",
      "bestIteration = 123\n",
      "\n",
      "Shrink model to first 124 iterations.\n",
      "=========\n",
      "\n",
      "Fold 2:\n",
      "0:\tlearn: 0.6154532\ttest: 0.6130128\tbest: 0.6130128 (0)\ttotal: 30.9ms\tremaining: 30.8s\n",
      "100:\tlearn: 0.2924695\ttest: 0.3104624\tbest: 0.3104624 (100)\ttotal: 3.88s\tremaining: 34.6s\n",
      "Stopped by overfitting detector  (25 iterations wait)\n",
      "\n",
      "bestTest = 0.3085803273\n",
      "bestIteration = 131\n",
      "\n",
      "Shrink model to first 132 iterations.\n",
      "=========\n",
      "\n",
      "Fold 3:\n",
      "0:\tlearn: 0.6274048\ttest: 0.6248650\tbest: 0.6248650 (0)\ttotal: 27.5ms\tremaining: 27.5s\n",
      "100:\tlearn: 0.2950888\ttest: 0.3025878\tbest: 0.3023425 (90)\ttotal: 3.98s\tremaining: 35.4s\n",
      "Stopped by overfitting detector  (25 iterations wait)\n",
      "\n",
      "bestTest = 0.300991281\n",
      "bestIteration = 138\n",
      "\n",
      "Shrink model to first 139 iterations.\n",
      "=========\n",
      "\n",
      "Fold 4:\n",
      "0:\tlearn: 0.6169264\ttest: 0.6113855\tbest: 0.6113855 (0)\ttotal: 34.3ms\tremaining: 34.2s\n",
      "100:\tlearn: 0.2918027\ttest: 0.3317469\tbest: 0.3311591 (94)\ttotal: 3.85s\tremaining: 34.2s\n",
      "Stopped by overfitting detector  (25 iterations wait)\n",
      "\n",
      "bestTest = 0.3311590628\n",
      "bestIteration = 94\n",
      "\n",
      "Shrink model to first 95 iterations.\n",
      "=========\n",
      "\n",
      "Fold 5:\n",
      "0:\tlearn: 0.6158308\ttest: 0.6180597\tbest: 0.6180597 (0)\ttotal: 37.2ms\tremaining: 37.1s\n",
      "100:\tlearn: 0.2908005\ttest: 0.3310621\tbest: 0.3308337 (99)\ttotal: 4.4s\tremaining: 39.2s\n",
      "Stopped by overfitting detector  (25 iterations wait)\n",
      "\n",
      "bestTest = 0.3308337002\n",
      "bestIteration = 99\n",
      "\n",
      "Shrink model to first 100 iterations.\n",
      "=========\n",
      "\n",
      "Fold 6:\n",
      "0:\tlearn: 0.6135741\ttest: 0.6151414\tbest: 0.6151414 (0)\ttotal: 31.9ms\tremaining: 31.9s\n",
      "100:\tlearn: 0.2921578\ttest: 0.3401855\tbest: 0.3401275 (98)\ttotal: 4.22s\tremaining: 37.5s\n",
      "Stopped by overfitting detector  (25 iterations wait)\n",
      "\n",
      "bestTest = 0.3345264473\n",
      "bestIteration = 165\n",
      "\n",
      "Shrink model to first 166 iterations.\n",
      "=========\n",
      "\n",
      "Fold 7:\n",
      "0:\tlearn: 0.6162458\ttest: 0.6105835\tbest: 0.6105835 (0)\ttotal: 28.4ms\tremaining: 28.3s\n",
      "Stopped by overfitting detector  (25 iterations wait)\n",
      "\n",
      "bestTest = 0.3419688208\n",
      "bestIteration = 64\n",
      "\n",
      "Shrink model to first 65 iterations.\n",
      "=========\n",
      "\n",
      "Fold 8:\n",
      "0:\tlearn: 0.6146227\ttest: 0.6171428\tbest: 0.6171428 (0)\ttotal: 36.3ms\tremaining: 36.3s\n",
      "Stopped by overfitting detector  (25 iterations wait)\n",
      "\n",
      "bestTest = 0.3290401715\n",
      "bestIteration = 71\n",
      "\n",
      "Shrink model to first 72 iterations.\n",
      "=========\n",
      "\n",
      "Fold 9:\n",
      "0:\tlearn: 0.6164095\ttest: 0.6158803\tbest: 0.6158803 (0)\ttotal: 29.8ms\tremaining: 29.7s\n",
      "Stopped by overfitting detector  (25 iterations wait)\n",
      "\n",
      "bestTest = 0.3301248291\n",
      "bestIteration = 66\n",
      "\n",
      "Shrink model to first 67 iterations.\n",
      "=========\n",
      "\n"
     ]
    }
   ],
   "source": [
    "cb_clf = CatBoostClassifier(learning_rate=0.1,\n",
    "                            random_state=5,\n",
    "                            depth=6,\n",
    "                            )\n",
    "\n",
    "cb_skf_auc_scores = [] \n",
    "\n",
    "# Iterate through each fold and calculate the RMSE for each fold\n",
    "for i, (train_index, test_index) in enumerate(skf.split(X, y)):\n",
    "    \n",
    "    # Extract the training and test data\n",
    "    X_train_kf, X_test_kf = X.iloc[train_index], X.iloc[test_index]\n",
    "    y_train_kf, y_test_kf = y.iloc[train_index], y.iloc[test_index]\n",
    "    \n",
    "    # Fit model\n",
    "    print(f'Fold {i}:')\n",
    "    cb_fit = cb_clf.fit(X_train_kf[cb_features], y_train_kf,\n",
    "                        eval_set=(X_test_kf[cb_features], y_test_kf),\n",
    "                        cat_features=cb_cate_cols,\n",
    "                        early_stopping_rounds=25,\n",
    "                        verbose=100)\n",
    "    y_pred_kf = cb_clf.predict_proba(X_test_kf[cb_features])[:, 1]\n",
    "    \n",
    "    auc_kf = roc_auc_score(y_test_kf, y_pred_kf)\n",
    "    cb_skf_auc_scores.append(auc_kf)\n",
    "\n",
    "    print('=========\\n')"
   ]
  },
  {
   "cell_type": "code",
   "execution_count": 28,
   "id": "4ba5752e-e23d-4366-b113-1179a1e892ab",
   "metadata": {},
   "outputs": [
    {
     "name": "stdout",
     "output_type": "stream",
     "text": [
      "[0.9247223579221625, 0.9084579058785214, 0.9124967878650195]\n",
      "0.9152256838885678\n"
     ]
    }
   ],
   "source": [
    "# 0.1, 6\n",
    "# all features\n",
    "print(cb_skf_auc_scores)\n",
    "print(np.mean(cb_skf_auc_scores))"
   ]
  },
  {
   "cell_type": "code",
   "execution_count": 37,
   "id": "98ac4d8f-3fc2-4fc4-bf58-0bbebd8fbf6f",
   "metadata": {},
   "outputs": [
    {
     "name": "stdout",
     "output_type": "stream",
     "text": [
      "[0.9031851489985344, 0.8864121711215018, 0.8860502098594855]\n",
      "0.8918825099931739\n"
     ]
    }
   ],
   "source": [
    "# 0.1, 6\n",
    "# ['contract_type', 'num_dependents', 'internet_type', 'payment_method', 'tenure_months', 'total_monthly_fee', 'total_charges_quarter', 'married', 'senior_citizen', 'city']\n",
    "print(cb_skf_auc_scores)\n",
    "print(np.mean(cb_skf_auc_scores))"
   ]
  },
  {
   "cell_type": "code",
   "execution_count": 42,
   "id": "72dca9dd-2e9a-44a2-b248-3f134e46d33c",
   "metadata": {},
   "outputs": [
    {
     "name": "stdout",
     "output_type": "stream",
     "text": [
      "[0.9244529741549771, 0.9046265149929047, 0.9073629582180378]\n",
      "0.9121474824553065\n"
     ]
    }
   ],
   "source": [
    "# 0.1, 6\n",
    "# ['contract_type', 'num_referrals', 'num_dependents', 'internet_type', 'payment_method', 'tenure_months', 'total_monthly_fee', 'total_charges_quarter', 'married', 'senior_citizen', 'city']\n",
    "print(cb_skf_auc_scores)\n",
    "print(np.mean(cb_skf_auc_scores))"
   ]
  },
  {
   "cell_type": "code",
   "execution_count": 73,
   "id": "5754dc52-b838-4781-90e0-283893bb5f93",
   "metadata": {},
   "outputs": [
    {
     "name": "stdout",
     "output_type": "stream",
     "text": [
      "[0.9248652778064543, 0.9261041025746908, 0.9223153634918341, 0.9287271142109853, 0.9087547450842478, 0.9070015204956609, 0.9065981236876675, 0.9021193847681502, 0.9107355268465747, 0.9097373783344884]\n",
      "0.9146958537300754\n"
     ]
    }
   ],
   "source": [
    "# 0.1, 6\n",
    "# ['contract_type', 'referrals_category', 'has_dependents', 'internet_type', 'payment_method', 'tenure_months', 'total_monthly_fee', 'total_charges_quarter', 'married', 'senior_citizen', 'city']\n",
    "print(cb_skf_auc_scores)\n",
    "print(np.mean(cb_skf_auc_scores))"
   ]
  },
  {
   "cell_type": "code",
   "execution_count": null,
   "id": "3aadcb6f-dd31-4103-8ba6-3a69c260c8de",
   "metadata": {},
   "outputs": [],
   "source": []
  },
  {
   "cell_type": "code",
   "execution_count": 43,
   "id": "1aea8c4f-715c-413b-a022-3ba3f032f47e",
   "metadata": {},
   "outputs": [
    {
     "name": "stdout",
     "output_type": "stream",
     "text": [
      "['contract_type', 'referrals_category', 'has_dependents', 'internet_type', 'payment_method', 'tenure_months', 'total_monthly_fee', 'total_charges_quarter', 'married', 'senior_citizen', 'city']\n"
     ]
    }
   ],
   "source": [
    "print(cb_features)"
   ]
  },
  {
   "cell_type": "code",
   "execution_count": null,
   "id": "c0c34ef2-e518-4d08-930d-e94886ad9abe",
   "metadata": {},
   "outputs": [],
   "source": []
  },
  {
   "cell_type": "code",
   "execution_count": null,
   "id": "d9f22d4a-5726-40d7-bf3d-9c1c55d7a1a1",
   "metadata": {},
   "outputs": [],
   "source": [
    "cb_hp_space = [\n",
    "    Integer(2, 10, name='depth'),\n",
    "    Real(1e-3, 0.1, name='learning_rate')\n",
    "]"
   ]
  },
  {
   "cell_type": "code",
   "execution_count": null,
   "id": "575476df-88ba-4355-a8a8-b6c99f97c382",
   "metadata": {},
   "outputs": [],
   "source": []
  },
  {
   "cell_type": "code",
   "execution_count": null,
   "id": "58bd471b-35d8-4ee2-b359-311e0d8bbf93",
   "metadata": {},
   "outputs": [],
   "source": []
  },
  {
   "cell_type": "code",
   "execution_count": 19,
   "id": "01dd719e-84b5-4d16-ac7e-5e28a5ec08fc",
   "metadata": {},
   "outputs": [],
   "source": [
    "cb_clf = CatBoostClassifier(learning_rate=0.1,\n",
    "                            random_state=5,\n",
    "                            depth=6,\n",
    "                            iterations = 130,\n",
    "                            )"
   ]
  },
  {
   "cell_type": "code",
   "execution_count": 20,
   "id": "de630d7a-e993-4a5e-9821-da67da3db61f",
   "metadata": {},
   "outputs": [
    {
     "name": "stdout",
     "output_type": "stream",
     "text": [
      "0:\tlearn: 0.6474761\ttotal: 222ms\tremaining: 28.6s\n",
      "10:\tlearn: 0.4401378\ttotal: 933ms\tremaining: 10.1s\n",
      "20:\tlearn: 0.3788495\ttotal: 1.66s\tremaining: 8.62s\n",
      "30:\tlearn: 0.3512437\ttotal: 2.35s\tremaining: 7.52s\n",
      "40:\tlearn: 0.3365714\ttotal: 3.05s\tremaining: 6.62s\n",
      "50:\tlearn: 0.3282501\ttotal: 3.82s\tremaining: 5.91s\n",
      "60:\tlearn: 0.3224290\ttotal: 4.58s\tremaining: 5.18s\n",
      "70:\tlearn: 0.3176021\ttotal: 5.35s\tremaining: 4.45s\n",
      "80:\tlearn: 0.3144521\ttotal: 6.2s\tremaining: 3.75s\n",
      "90:\tlearn: 0.3113479\ttotal: 7s\tremaining: 3s\n",
      "100:\tlearn: 0.3096041\ttotal: 7.78s\tremaining: 2.23s\n",
      "110:\tlearn: 0.3070978\ttotal: 8.6s\tremaining: 1.47s\n",
      "120:\tlearn: 0.3050636\ttotal: 9.39s\tremaining: 699ms\n",
      "129:\tlearn: 0.3042053\ttotal: 10.1s\tremaining: 0us\n"
     ]
    },
    {
     "data": {
      "text/plain": [
       "<catboost.core.CatBoostClassifier at 0x1b2da5cd7c0>"
      ]
     },
     "execution_count": 20,
     "metadata": {},
     "output_type": "execute_result"
    }
   ],
   "source": [
    "cb_clf.fit(X[cb_features], y,\n",
    "            cat_features=cb_cate_cols,\n",
    "            verbose=10)"
   ]
  },
  {
   "cell_type": "code",
   "execution_count": null,
   "id": "a9b00aa4-bc6e-41c0-9ca2-84aba73aea0f",
   "metadata": {},
   "outputs": [],
   "source": []
  },
  {
   "cell_type": "code",
   "execution_count": 21,
   "id": "c4d0e6a6-aa6e-462a-a719-2ac500536c35",
   "metadata": {},
   "outputs": [
    {
     "name": "stdout",
     "output_type": "stream",
     "text": [
      "0.928001585488458\n"
     ]
    }
   ],
   "source": [
    "y_pred_cb = cb_clf.predict_proba(X[cb_features])[:,1]\n",
    "\n",
    "auc_cb = roc_auc_score(y, y_pred_cb)\n",
    "\n",
    "print(auc_cb)"
   ]
  },
  {
   "cell_type": "code",
   "execution_count": null,
   "id": "24b13753-d788-468a-a778-24e095a273c0",
   "metadata": {},
   "outputs": [],
   "source": []
  },
  {
   "cell_type": "code",
   "execution_count": 17,
   "id": "f5612281-ffed-43ec-9208-083c07651dcd",
   "metadata": {},
   "outputs": [],
   "source": [
    "from pathlib import Path\n",
    "\n",
    "Path(\"../model\").mkdir(exist_ok=True)"
   ]
  },
  {
   "cell_type": "code",
   "execution_count": 22,
   "id": "85823cd0-8b1e-4366-b379-1b1edffc192c",
   "metadata": {},
   "outputs": [
    {
     "data": {
      "text/plain": [
       "['../model/catboost_model_small.pkl']"
      ]
     },
     "execution_count": 22,
     "metadata": {},
     "output_type": "execute_result"
    }
   ],
   "source": [
    "import joblib\n",
    "\n",
    "joblib.dump(cb_clf, '../model/catboost_model_small.pkl')"
   ]
  },
  {
   "cell_type": "code",
   "execution_count": null,
   "id": "10f3fdb6-3553-4dff-b11f-e0fb0561e042",
   "metadata": {},
   "outputs": [],
   "source": []
  },
  {
   "cell_type": "code",
   "execution_count": 21,
   "id": "be8a3293-5876-4760-8ef5-3cce63e8b893",
   "metadata": {
    "collapsed": true,
    "jupyter": {
     "outputs_hidden": true
    }
   },
   "outputs": [
    {
     "data": {
      "text/plain": [
       "account_id                        AAJU-HMJLK\n",
       "contract_type                       One Year\n",
       "customer_id                       0334-ZFJSR\n",
       "has_device_protection                     No\n",
       "has_internet_service                     Yes\n",
       "has_multiple_lines                       Yes\n",
       "has_online_backup                        Yes\n",
       "has_online_security                      Yes\n",
       "has_phone_service                        Yes\n",
       "has_premium_tech_support                 Yes\n",
       "has_unlimited_data                        No\n",
       "internet_type                          Cable\n",
       "num_referrals                              0\n",
       "paperless_billing                        Yes\n",
       "payment_method                   Credit Card\n",
       "tenure_months                             55\n",
       "avg_gb_download_monthly                   13\n",
       "avg_long_distance_fee_monthly          35.38\n",
       "stream_movie                              No\n",
       "stream_music                              No\n",
       "stream_tv                                 No\n",
       "total_charges_quarter                 3462.1\n",
       "total_long_distance_fee               1945.9\n",
       "total_monthly_fee                      66.05\n",
       "total_refunds                          44.53\n",
       "age                                       41\n",
       "gender                                Female\n",
       "married                                  Yes\n",
       "num_dependents                             0\n",
       "senior_citizen                            No\n",
       "zip_code                               92123\n",
       "area_id                                  371\n",
       "city                               San Diego\n",
       "latitutde                          32.808814\n",
       "longitude                        -117.134694\n",
       "population                             25232\n",
       "Name: 0, dtype: object"
      ]
     },
     "execution_count": 21,
     "metadata": {},
     "output_type": "execute_result"
    }
   ],
   "source": [
    "X.iloc[0]"
   ]
  },
  {
   "cell_type": "code",
   "execution_count": 23,
   "id": "7e1cdaa1-4d63-4b4a-9185-8f71bd813101",
   "metadata": {},
   "outputs": [
    {
     "name": "stderr",
     "output_type": "stream",
     "text": [
      "C:\\Users\\ardih\\Study\\Heicoders\\AI300\\AI300_Capstone\\venv\\Lib\\site-packages\\tqdm\\auto.py:21: TqdmWarning: IProgress not found. Please update jupyter and ipywidgets. See https://ipywidgets.readthedocs.io/en/stable/user_install.html\n",
      "  from .autonotebook import tqdm as notebook_tqdm\n"
     ]
    }
   ],
   "source": [
    "import shap"
   ]
  },
  {
   "cell_type": "code",
   "execution_count": 24,
   "id": "5f2c15e3-378c-46a5-89c0-ec2145f89ec7",
   "metadata": {},
   "outputs": [],
   "source": [
    "explainer = shap.Explainer(cb_clf)\n",
    "shap_values = explainer(X[cb_features])"
   ]
  },
  {
   "cell_type": "code",
   "execution_count": 25,
   "id": "b41e10a1-63f9-4e04-804f-ba0fb3bfbe42",
   "metadata": {},
   "outputs": [
    {
     "data": {
      "image/png": "[encoded data removed]",
      "text/plain": [
       "<Figure size 800x590 with 2 Axes>"
      ]
     },
     "metadata": {},
     "output_type": "display_data"
    }
   ],
   "source": [
    "shap.plots.beeswarm(shap_values, max_display=len(cb_features))"
   ]
  },
  {
   "cell_type": "code",
   "execution_count": null,
   "id": "56cce23a-839a-4a49-a5f4-016d5158bd9f",
   "metadata": {},
   "outputs": [],
   "source": []
  },
  {
   "cell_type": "code",
   "execution_count": 28,
   "id": "bd527fc0-ca01-4ce8-9658-f1d706d6efd1",
   "metadata": {},
   "outputs": [
    {
     "data": {
      "text/plain": [
       "contract_type\n",
       "Month-to-Month    3610\n",
       "Two Year          1883\n",
       "One Year          1550\n",
       "Name: count, dtype: int64"
      ]
     },
     "execution_count": 28,
     "metadata": {},
     "output_type": "execute_result"
    }
   ],
   "source": [
    "churn_df['contract_type'].value_counts()"
   ]
  },
  {
   "cell_type": "code",
   "execution_count": 29,
   "id": "3319cfdd-4873-4366-8301-0c79c88f7fc0",
   "metadata": {},
   "outputs": [
    {
     "data": {
      "text/plain": [
       "internet_type\n",
       "Fiber Optic    3035\n",
       "DSL            1652\n",
       "Missing        1526\n",
       "Cable           830\n",
       "Name: count, dtype: int64"
      ]
     },
     "execution_count": 29,
     "metadata": {},
     "output_type": "execute_result"
    }
   ],
   "source": [
    "churn_df['internet_type'].value_counts()"
   ]
  },
  {
   "cell_type": "code",
   "execution_count": 32,
   "id": "33de6ab8-4425-4b1f-b681-0981bf6751d9",
   "metadata": {},
   "outputs": [
    {
     "data": {
      "text/plain": [
       "tenure_months\n",
       "1     613\n",
       "72    362\n",
       "2     238\n",
       "3     200\n",
       "4     176\n",
       "     ... \n",
       "38     59\n",
       "28     57\n",
       "39     56\n",
       "44     51\n",
       "36     50\n",
       "Name: count, Length: 72, dtype: int64"
      ]
     },
     "execution_count": 32,
     "metadata": {},
     "output_type": "execute_result"
    }
   ],
   "source": [
    "churn_df['tenure_months'].value_counts()"
   ]
  },
  {
   "cell_type": "code",
   "execution_count": 34,
   "id": "cde8dfba-299a-4617-89f3-514c58dc180e",
   "metadata": {},
   "outputs": [
    {
     "data": {
      "text/plain": [
       "0    1\n",
       "Name: tenure_months, dtype: int64"
      ]
     },
     "execution_count": 34,
     "metadata": {},
     "output_type": "execute_result"
    }
   ],
   "source": [
    "churn_df['tenure_months'].mode()"
   ]
  },
  {
   "cell_type": "code",
   "execution_count": 36,
   "id": "5c4a1d0f-4dd4-42be-9256-ead7f8d872df",
   "metadata": {},
   "outputs": [
    {
     "data": {
      "text/plain": [
       "0    20.2\n",
       "Name: total_charges_quarter, dtype: float64"
      ]
     },
     "execution_count": 36,
     "metadata": {},
     "output_type": "execute_result"
    }
   ],
   "source": [
    "churn_df['total_charges_quarter'].mode()"
   ]
  },
  {
   "cell_type": "code",
   "execution_count": null,
   "id": "2e1e41fe-187d-4228-a31c-6c5dbc927f2b",
   "metadata": {},
   "outputs": [],
   "source": []
  },
  {
   "cell_type": "code",
   "execution_count": 37,
   "id": "b6dffb86-ac17-4688-9df7-6b4ffbd11946",
   "metadata": {},
   "outputs": [
    {
     "data": {
      "text/plain": [
       "payment_method\n",
       "Bank Withdrawal    3909\n",
       "Credit Card        2749\n",
       "Mailed Check        385\n",
       "Name: count, dtype: int64"
      ]
     },
     "execution_count": 37,
     "metadata": {},
     "output_type": "execute_result"
    }
   ],
   "source": [
    "churn_df['payment_method'].value_counts()"
   ]
  },
  {
   "cell_type": "code",
   "execution_count": 38,
   "id": "34049963-9020-4c4e-9742-97e7824ce6c0",
   "metadata": {},
   "outputs": [
    {
     "data": {
      "text/plain": [
       "married\n",
       "No     3641\n",
       "Yes    3402\n",
       "Name: count, dtype: int64"
      ]
     },
     "execution_count": 38,
     "metadata": {},
     "output_type": "execute_result"
    }
   ],
   "source": [
    "churn_df['married'].value_counts()"
   ]
  },
  {
   "cell_type": "code",
   "execution_count": 39,
   "id": "5d4a64bc-e397-434e-a338-7cfe7ca223d1",
   "metadata": {},
   "outputs": [
    {
     "data": {
      "text/plain": [
       "has_dependents\n",
       "No     5416\n",
       "Yes    1627\n",
       "Name: count, dtype: int64"
      ]
     },
     "execution_count": 39,
     "metadata": {},
     "output_type": "execute_result"
    }
   ],
   "source": [
    "churn_df['has_dependents'].value_counts()"
   ]
  },
  {
   "cell_type": "code",
   "execution_count": 40,
   "id": "7d1116f6-8c87-42cd-bc8f-eac53ef4240e",
   "metadata": {},
   "outputs": [
    {
     "data": {
      "text/plain": [
       "senior_citizen\n",
       "No     5901\n",
       "Yes    1142\n",
       "Name: count, dtype: int64"
      ]
     },
     "execution_count": 40,
     "metadata": {},
     "output_type": "execute_result"
    }
   ],
   "source": [
    "churn_df['senior_citizen'].value_counts()"
   ]
  },
  {
   "cell_type": "code",
   "execution_count": 41,
   "id": "a2566613-c6d0-4e04-b976-731b9273de55",
   "metadata": {},
   "outputs": [
    {
     "data": {
      "text/plain": [
       "0    Los Angeles\n",
       "Name: city, dtype: object"
      ]
     },
     "execution_count": 41,
     "metadata": {},
     "output_type": "execute_result"
    }
   ],
   "source": [
    "churn_df['city'].mode()"
   ]
  },
  {
   "cell_type": "code",
   "execution_count": 42,
   "id": "70c4043b-4445-47ae-946b-945b1677f275",
   "metadata": {},
   "outputs": [
    {
     "data": {
      "text/plain": [
       "city\n",
       "Los Angeles         293\n",
       "San Diego           285\n",
       "San Jose            112\n",
       "Sacramento          108\n",
       "San Francisco       104\n",
       "                   ... \n",
       "Holtville             2\n",
       "Johannesburg          2\n",
       "Jacumba               2\n",
       "Eldridge              2\n",
       "South Lake Tahoe      2\n",
       "Name: count, Length: 1106, dtype: int64"
      ]
     },
     "execution_count": 42,
     "metadata": {},
     "output_type": "execute_result"
    }
   ],
   "source": [
    "churn_df['city'].value_counts()"
   ]
  },
  {
   "cell_type": "code",
   "execution_count": null,
   "id": "b2573c88-5546-4dde-9e2b-0e666579cb92",
   "metadata": {},
   "outputs": [],
   "source": []
  },
  {
   "cell_type": "code",
   "execution_count": 33,
   "id": "d08ef175-996f-44f7-a41e-1e2e92815745",
   "metadata": {},
   "outputs": [
    {
     "name": "stdout",
     "output_type": "stream",
     "text": [
      "<class 'pandas.core.frame.DataFrame'>\n",
      "RangeIndex: 7043 entries, 0 to 7042\n",
      "Data columns (total 11 columns):\n",
      " #   Column                 Non-Null Count  Dtype  \n",
      "---  ------                 --------------  -----  \n",
      " 0   contract_type          7043 non-null   object \n",
      " 1   referrals_category     7043 non-null   object \n",
      " 2   has_dependents         7043 non-null   object \n",
      " 3   internet_type          7043 non-null   object \n",
      " 4   payment_method         7043 non-null   object \n",
      " 5   tenure_months          7043 non-null   int64  \n",
      " 6   total_monthly_fee      7043 non-null   float64\n",
      " 7   total_charges_quarter  7043 non-null   float64\n",
      " 8   married                7043 non-null   object \n",
      " 9   senior_citizen         7043 non-null   object \n",
      " 10  city                   7043 non-null   object \n",
      "dtypes: float64(2), int64(1), object(8)\n",
      "memory usage: 605.4+ KB\n"
     ]
    }
   ],
   "source": [
    "churn_df[cb_features].info()"
   ]
  },
  {
   "cell_type": "code",
   "execution_count": 35,
   "id": "4a54a942-9a2c-4c4a-b7d0-f1fc336c497c",
   "metadata": {},
   "outputs": [
    {
     "data": {
      "text/html": [
       "<div>\n",
       "<style scoped>\n",
       "    .dataframe tbody tr th:only-of-type {\n",
       "        vertical-align: middle;\n",
       "    }\n",
       "\n",
       "    .dataframe tbody tr th {\n",
       "        vertical-align: top;\n",
       "    }\n",
       "\n",
       "    .dataframe thead th {\n",
       "        text-align: right;\n",
       "    }\n",
       "</style>\n",
       "<table border=\"1\" class=\"dataframe\">\n",
       "  <thead>\n",
       "    <tr style=\"text-align: right;\">\n",
       "      <th></th>\n",
       "      <th>count</th>\n",
       "      <th>mean</th>\n",
       "      <th>std</th>\n",
       "      <th>min</th>\n",
       "      <th>25%</th>\n",
       "      <th>50%</th>\n",
       "      <th>75%</th>\n",
       "      <th>max</th>\n",
       "    </tr>\n",
       "  </thead>\n",
       "  <tbody>\n",
       "    <tr>\n",
       "      <th>tenure_months</th>\n",
       "      <td>7043.0</td>\n",
       "      <td>32.386767</td>\n",
       "      <td>24.542061</td>\n",
       "      <td>1.00</td>\n",
       "      <td>9.00</td>\n",
       "      <td>29.00</td>\n",
       "      <td>55.00</td>\n",
       "      <td>72.00</td>\n",
       "    </tr>\n",
       "    <tr>\n",
       "      <th>total_monthly_fee</th>\n",
       "      <td>7043.0</td>\n",
       "      <td>64.761692</td>\n",
       "      <td>30.090047</td>\n",
       "      <td>18.25</td>\n",
       "      <td>35.50</td>\n",
       "      <td>70.35</td>\n",
       "      <td>89.85</td>\n",
       "      <td>118.75</td>\n",
       "    </tr>\n",
       "    <tr>\n",
       "      <th>total_charges_quarter</th>\n",
       "      <td>7043.0</td>\n",
       "      <td>2280.381264</td>\n",
       "      <td>2266.220462</td>\n",
       "      <td>18.80</td>\n",
       "      <td>400.15</td>\n",
       "      <td>1394.55</td>\n",
       "      <td>3786.60</td>\n",
       "      <td>8684.80</td>\n",
       "    </tr>\n",
       "  </tbody>\n",
       "</table>\n",
       "</div>"
      ],
      "text/plain": [
       "                        count         mean          std    min     25%  \\\n",
       "tenure_months          7043.0    32.386767    24.542061   1.00    9.00   \n",
       "total_monthly_fee      7043.0    64.761692    30.090047  18.25   35.50   \n",
       "total_charges_quarter  7043.0  2280.381264  2266.220462  18.80  400.15   \n",
       "\n",
       "                           50%      75%      max  \n",
       "tenure_months            29.00    55.00    72.00  \n",
       "total_monthly_fee        70.35    89.85   118.75  \n",
       "total_charges_quarter  1394.55  3786.60  8684.80  "
      ]
     },
     "execution_count": 35,
     "metadata": {},
     "output_type": "execute_result"
    }
   ],
   "source": [
    "churn_df[cb_features].describe().T"
   ]
  },
  {
   "cell_type": "code",
   "execution_count": null,
   "id": "c17c66a9-ee76-492b-8778-1dc6f3740200",
   "metadata": {},
   "outputs": [],
   "source": []
  }
 ],
 "metadata": {
  "kernelspec": {
   "display_name": "Python 3 (ipykernel)",
   "language": "python",
   "name": "python3"
  },
  "language_info": {
   "codemirror_mode": {
    "name": "ipython",
    "version": 3
   },
   "file_extension": ".py",
   "mimetype": "text/x-python",
   "name": "python",
   "nbconvert_exporter": "python",
   "pygments_lexer": "ipython3",
   "version": "3.12.2"
  }
 },
 "nbformat": 4,
 "nbformat_minor": 5
}
