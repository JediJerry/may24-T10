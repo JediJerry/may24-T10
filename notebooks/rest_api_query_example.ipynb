{
 "cells": [
  {
   "cell_type": "code",
   "execution_count": 1,
   "id": "82ec6367-a375-4de8-ba6a-d0f934b9b762",
   "metadata": {},
   "outputs": [],
   "source": [
    "import requests\n",
    "\n",
    "website = 'http://localhost:5000'"
   ]
  },
  {
   "cell_type": "raw",
   "id": "99430ec2-db65-421c-9ff7-e749d497e7c4",
   "metadata": {
    "collapsed": true,
    "jupyter": {
     "outputs_hidden": true
    }
   },
   "source": [
    "url = f'{website}/api/predict_one'\n",
    "model_inputs = {\n",
    "    'contract_type': 'One Year',\n",
    "    'has_device_protection': 'No',\n",
    "    'has_internet_service': 'Yes',\n",
    "    'has_multiple_lines': 'Yes',\n",
    "    'has_online_backup': 'Yes',\n",
    "    'has_online_security': 'Yes',\n",
    "    'has_phone_service': 'Yes',\n",
    "    'has_premium_tech_support': 'Yes',\n",
    "    'has_unlimited_data': 'No',\n",
    "    'internet_type': 'Cable',\n",
    "    'num_referrals': 0,\n",
    "    'paperless_billing': 'Yes',\n",
    "    'payment_method': 'Credit Card',\n",
    "    'tenure_months': 55,\n",
    "    'avg_gb_download_monthly': 13,\n",
    "    'avg_long_distance_fee_monthly': 35.38,\n",
    "    'stream_movie': 'No',\n",
    "    'stream_music': 'No',\n",
    "    'stream_tv': 'No',\n",
    "    'total_charges_quarter': 3462.1,\n",
    "    'total_long_distance_fee': 1945.9,\n",
    "    'total_monthly_fee': 66.05,\n",
    "    'total_refunds': 44.53,\n",
    "    'age': 41,\n",
    "    'gender': 'Female',\n",
    "    'married': 'Yes',\n",
    "    'num_dependents': 0,\n",
    "    'senior_citizen': 'No',\n",
    "    'zip_code': 92123,\n",
    "    'area_id': 371,\n",
    "    'city': 'San Diego',\n",
    "    'latitutde': 32.808814,\n",
    "    'longitude': 117.134694,\n",
    "    'population': 25232\n",
    "}\n",
    "\n",
    "response = requests.post(url, json = model_inputs)\n",
    "print(response)  # 200: OK/Success, 400: Bad Request, 500: Internal Server Error\n",
    "print(response.text)"
   ]
  },
  {
   "cell_type": "code",
   "execution_count": null,
   "id": "381a4b34-1f4b-4a5b-b326-058e6be203f2",
   "metadata": {},
   "outputs": [],
   "source": []
  },
  {
   "cell_type": "code",
   "execution_count": 4,
   "id": "195fbdb1-8da6-4d2d-af15-998e4e002527",
   "metadata": {},
   "outputs": [
    {
     "name": "stdout",
     "output_type": "stream",
     "text": [
      "<Response [200]>\n",
      "{\n",
      "  \"prediction\": 0\n",
      "}\n",
      "\n"
     ]
    }
   ],
   "source": [
    "url = f'{website}/api/predict_one'\n",
    "model_inputs = {\n",
    "    'contract_type': 'One Year',\n",
    "    'internet_type': 'Cable',\n",
    "    'referrals_category': '0-1',\n",
    "    'payment_method': 'Credit Card',\n",
    "    'tenure_months': 55,\n",
    "    'total_charges_quarter': 3462.1,\n",
    "    'total_monthly_fee': 66.05,\n",
    "    'married': 'Yes',\n",
    "    'has_dependents': 'No',\n",
    "    'senior_citizen': 'No',\n",
    "    'city': 'San Diego',\n",
    "}\n",
    "\n",
    "response = requests.post(url, json = model_inputs)\n",
    "print(response)  # 200: OK/Success, 400: Bad Request, 500: Internal Server Error\n",
    "print(response.text)"
   ]
  },
  {
   "cell_type": "code",
   "execution_count": null,
   "id": "fe0ec72f-66ad-436a-9782-35c5267b6993",
   "metadata": {},
   "outputs": [],
   "source": []
  }
 ],
 "metadata": {
  "kernelspec": {
   "display_name": "Python 3 (ipykernel)",
   "language": "python",
   "name": "python3"
  },
  "language_info": {
   "codemirror_mode": {
    "name": "ipython",
    "version": 3
   },
   "file_extension": ".py",
   "mimetype": "text/x-python",
   "name": "python",
   "nbconvert_exporter": "python",
   "pygments_lexer": "ipython3",
   "version": "3.12.2"
  }
 },
 "nbformat": 4,
 "nbformat_minor": 5
}
